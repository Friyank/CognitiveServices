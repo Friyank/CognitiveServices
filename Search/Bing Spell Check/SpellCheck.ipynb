{
 "cells": [
  {
   "cell_type": "code",
   "execution_count": 2,
   "metadata": {},
   "outputs": [
    {
     "name": "stdout",
     "output_type": "stream",
     "text": [
      "'flaggedTokens'\n"
     ]
    }
   ],
   "source": [
    "import http.client, json, urllib, urllib.request, urllib.error, urllib.parse\n",
    "key='9c5bfdd7445448f898f19379eb6e0f58'\n",
    "header = {\n",
    "    'Content-Type' : 'application/json',\n",
    "    'Ocp-Apim-Subscription-Key' : key\n",
    "}\n",
    "baseUrl = \"aml-spellcheck.cognitiveservices.azure.com\"\n",
    "text = 'barke'\n",
    "params = urllib.parse.urlencode({\n",
    "    'text' : text,\n",
    "    'mkt' : 'en-US',\n",
    "    'setLang' : 'EN',\n",
    "    'postContextText' : 'dogs',\n",
    "    'preContextText' : 'animal'\n",
    "})\n",
    "endpoint = '/bing/v7.0/spellcheck?%s'%params\n",
    "body = {}\n",
    "try :\n",
    "    conn = http.client.HTTPSConnection(baseUrl)\n",
    "    conn.request('POST', endpoint,body,header)\n",
    "    response = conn.getresponse()\n",
    "    jsonData = response.read().decode('UTF-8')\n",
    "    data = json.loads(jsonData)\n",
    "    if data['flaggedTokens'] == []:\n",
    "        print('No Suggestion ')\n",
    "    for token in data['flaggedTokens']:\n",
    "        print('You can replace '+ token['token'] +' with folowing words')\n",
    "        for suggestion in token['suggestions']:\n",
    "            print(suggestion['suggestion'] + \" Score is \"+ str(suggestion['score']))\n",
    "    conn.close()\n",
    "except Exception as ex:\n",
    "    print(ex)"
   ]
  },
  {
   "cell_type": "code",
   "execution_count": null,
   "metadata": {},
   "outputs": [],
   "source": []
  },
  {
   "cell_type": "code",
   "execution_count": null,
   "metadata": {},
   "outputs": [],
   "source": []
  }
 ],
 "metadata": {
  "kernelspec": {
   "display_name": "Python 3.6",
   "language": "python",
   "name": "python36"
  },
  "language_info": {
   "codemirror_mode": {
    "name": "ipython",
    "version": 3
   },
   "file_extension": ".py",
   "mimetype": "text/x-python",
   "name": "python",
   "nbconvert_exporter": "python",
   "pygments_lexer": "ipython3",
   "version": "3.6.6"
  }
 },
 "nbformat": 4,
 "nbformat_minor": 2
}
