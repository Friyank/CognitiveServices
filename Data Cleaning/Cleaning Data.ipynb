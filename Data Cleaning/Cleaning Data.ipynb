{
 "cells": [
  {
   "cell_type": "code",
   "execution_count": 1,
   "metadata": {},
   "outputs": [],
   "source": [
    "import urllib.parse, http.client, urllib.request, urllib.error, json\n",
    "\n",
    "textAnalyticsEndpoint = \"aml-text-learn.cognitiveservices.azure.com\"\n",
    "textAnalyticsAPI = \"/text/analytics/v2.0/sentiment\"\n",
    "textAnalyticsKey = \"1009e403fa1a4fac942b55d99a037c8c\"\n",
    "httpMethod = \"POST\""
   ]
  },
  {
   "cell_type": "code",
   "execution_count": 2,
   "metadata": {},
   "outputs": [
    {
     "name": "stdout",
     "output_type": "stream",
     "text": [
      "And so even though we face the difficulties of today and tomorrow, I still have a dream. It is a dream deeply rooted in the American dream.\n",
      " \n",
      "I have a dream that one day this nation will rise up and live out the true meaning of its creed:\n",
      " \n",
      "We hold these truths to be self-evident, that all men are created equal.\n",
      " \n",
      "I have a dream that one day on the red hills of Georgia, the sons of former slaves and the sons of former slave owners will be able to sit down together at the table of brotherhood.\n",
      " \n",
      "I have a dream that one day even the state of Mississippi, a state sweltering with the heat of injustice, sweltering with the heat of oppression, will be transformed into an oasis of freedom and justice.\n",
      " \n",
      "I have a dream that my four little children will one day live in a nation where they will not be judged by the color of their skin but by the content of their character.\n",
      " \n",
      "I have a dream today!\n",
      " \n",
      "I have a dream that one day, down in Alabama, with its vicious racists, with its governor having his lips dripping with the words of interposition and nullification, one day right there in Alabama little black boys and black girls will be able to join hands with little white boys and white girls as sisters and brothers.\n",
      " \n",
      "I have a dream today!\n",
      " \n",
      "I have a dream that one day every valley shall be exalted, and every hill and mountain shall be made low, the rough places will be made plain, and the crooked places will be made straight; and the glory of the Lord shall be revealed and all flesh shall see it together.\n",
      " \n",
      "This is our hope, and this is the faith that I go back to the South with.\n",
      " \n",
      "With this faith, we will be able to hew out of the mountain of despair a stone of hope. With this faith, we will be able to transform the jangling discords of our nation into a beautiful symphony of brotherhood. With this faith, we will be able to work together, to pray together, to struggle together, to go to jail together, to stand up for freedom together, knowing that we will be free one day.\n",
      " \n",
      "And this will be the day, this will be the day when all of God s children will be able to sing with new meaning:\n",
      " \n",
      "My country  tis of thee, sweet land of liberty, of thee I sing.\n",
      "Land where my fathers died, land of the Pilgrim s pride,\n",
      "From every mountainside, let freedom ring!\n",
      "And if America is to be a great nation, this must become true.\n",
      "And so let freedom ring from the prodigious hilltops of New Hampshire.\n",
      "Let freedom ring from the mighty mountains of New York.\n",
      "Let freedom ring from the heightening Alleghenies of Pennsylvania.\n",
      "Let freedom ring from the snow-capped Rockies of Colorado.\n",
      "Let freedom ring from the curvaceous slopes of California.\n",
      " \n",
      "But not only that:\n",
      "Let freedom ring from Stone Mountain of Georgia.\n",
      "Let freedom ring from Lookout Mountain of Tennessee.\n",
      "Let freedom ring from every hill and molehill of Mississippi.\n",
      "From every mountainside, let freedom ring.\n",
      "And when this happens, when we allow freedom ring, when we let it ring from every village and every hamlet, from every state and every city, we will be able to speed up that day when all of God s children, black men and white men, Jews and Gentiles, Protestants and Catholics, will be able to join hands and sing in the words of the old Negro spiritual:\n",
      "Free at last! Free at last!\n",
      " \n",
      "Thank God Almighty, we are free at last!\n"
     ]
    },
    {
     "name": "stderr",
     "output_type": "stream",
     "text": [
      "  % Total    % Received % Xferd  Average Speed   Time    Time     Time  Current\n",
      "                                 Dload  Upload   Total   Spent    Left  Speed\n",
      "\n",
      "  0     0    0     0    0     0      0      0 --:--:-- --:--:-- --:--:--     0\n",
      "  0     0    0     0    0     0      0      0 --:--:-- --:--:-- --:--:--     0\n",
      "  0     0    0     0    0     0      0      0 --:--:--  0:00:02 --:--:--     0\n",
      "100  3349  100  3349    0     0   1193      0  0:00:02  0:00:02 --:--:--  1193\n"
     ]
    }
   ],
   "source": [
    "!curl https://www.unisi.it/sites/default/files/speech.txt -o speech.txt\n",
    "document = open(\"speech.txt\", \"r\")\n",
    "mlk_speech = document.read()\n",
    "print(mlk_speech)"
   ]
  },
  {
   "cell_type": "code",
   "execution_count": 3,
   "metadata": {},
   "outputs": [
    {
     "name": "stdout",
     "output_type": "stream",
     "text": [
      "And so even though we face the difficulties of today and tomorrow, I still have a dream. It is a dream deeply rooted in the American dream.\n",
      " \n",
      "I have a dream that one day this nation will rise up and live out the true meaning of its creed:\n",
      " \n",
      "We hold these truths to be self-evident, that all men are created equal.\n",
      " \n",
      "I have a dream that one day on the red hills of Georgia, the sons of former slaves and the sons of former slave owners will be able to sit down together at the table of brotherhood.\n",
      " \n",
      "I have a dream that one day even the state of Mississippi, a state sweltering with the heat of injustice, sweltering with the heat of oppression, will be transformed into an oasis of freedom and justice.\n",
      " \n",
      "I have a dream that my four little children will one day live in a nation where they will not be judged by the color of their skin but by the content of their character.\n",
      " \n",
      "I have a dream today!\n",
      " \n",
      "I have a dream that one day, down in Alabama, with its vicious racists, with its governor having his lips dripping with the words of interposition and nullification, one day right there in Alabama little black boys and black girls will be able to join hands with little white boys and white girls as sisters and brothers.\n",
      " \n",
      "I have a dream today!\n",
      " \n",
      "I have a dream that one day every valley shall be exalted, and every hill and mountain shall be made low, the rough places will be made plain, and the crooked places will be made straight; and the glory of the Lord shall be revealed and all flesh shall see it together.\n",
      " \n",
      "This is our hope, and this is the faith that I go back to the South with.\n",
      " \n",
      "With this faith, we will be able to hew out of the mountain of despair a stone of hope. With this faith, we will be able to transform the jangling discords of our nation into a beautiful symphony of brotherhood. With this faith, we will be able to work together, to pray together, to struggle together, to go to jail together, to stand up for freedom together, knowing that we will be free one day.\n",
      " \n",
      "And this will be the day, this will be the day when all of God s children will be able to sing with new meaning:\n",
      " \n",
      "My country  tis of thee, sweet land of liberty, of thee I sing.\n",
      "Land where my fathers died, land of the Pilgrim s pride,\n",
      "From every mountainside, let freedom ring!\n",
      "And if America is to be a great nation, this must become true.\n",
      "And so let freedom ring from the prodigious hilltops of New Hampshire.\n",
      "Let freedom ring from the mighty mountains of New York.\n",
      "Let freedom ring from the heightening Alleghenies of Pennsylvania.\n",
      "Let freedom ring from the snow-capped Rockies of Colorado.\n",
      "Let freedom ring from the curvaceous slopes of California.\n",
      " \n",
      "But not only that:\n",
      "Let freedom ring from Stone Mountain of Georgia.\n",
      "Let freedom ring from Lookout Mountain of Tennessee.\n",
      "Let freedom ring from every hill and molehill of Mississippi.\n",
      "From every mountainside, let freedom ring.\n",
      "And when this happens, when we allow freedom ring, when we let it ring from every village and every hamlet, from every state and every city, we will be able to speed up that day when all of God s children, black men and white men, Jews and Gentiles, Protestants and Catholics, will be able to join hands and sing in the words of the old Negro spiritual:\n",
      "Free at last! Free at last!\n",
      " \n",
      "Thank God Almighty, we are free at last!\n"
     ]
    }
   ],
   "source": [
    "#Remove numbers\n",
    "mlk_speech = ''.join(x for x in mlk_speech if not x.isdigit())\n",
    "print(mlk_speech)"
   ]
  },
  {
   "cell_type": "code",
   "execution_count": 5,
   "metadata": {},
   "outputs": [
    {
     "name": "stdout",
     "output_type": "stream",
     "text": [
      "And so even though we face the difficulties of today and tomorrow I still have a dream It is a dream deeply rooted in the American dream\n",
      " \n",
      "I have a dream that one day this nation will rise up and live out the true meaning of its creed\n",
      " \n",
      "We hold these truths to be selfevident that all men are created equal\n",
      " \n",
      "I have a dream that one day on the red hills of Georgia the sons of former slaves and the sons of former slave owners will be able to sit down together at the table of brotherhood\n",
      " \n",
      "I have a dream that one day even the state of Mississippi a state sweltering with the heat of injustice sweltering with the heat of oppression will be transformed into an oasis of freedom and justice\n",
      " \n",
      "I have a dream that my four little children will one day live in a nation where they will not be judged by the color of their skin but by the content of their character\n",
      " \n",
      "I have a dream today\n",
      " \n",
      "I have a dream that one day down in Alabama with its vicious racists with its governor having his lips dripping with the words of interposition and nullification one day right there in Alabama little black boys and black girls will be able to join hands with little white boys and white girls as sisters and brothers\n",
      " \n",
      "I have a dream today\n",
      " \n",
      "I have a dream that one day every valley shall be exalted and every hill and mountain shall be made low the rough places will be made plain and the crooked places will be made straight and the glory of the Lord shall be revealed and all flesh shall see it together\n",
      " \n",
      "This is our hope and this is the faith that I go back to the South with\n",
      " \n",
      "With this faith we will be able to hew out of the mountain of despair a stone of hope With this faith we will be able to transform the jangling discords of our nation into a beautiful symphony of brotherhood With this faith we will be able to work together to pray together to struggle together to go to jail together to stand up for freedom together knowing that we will be free one day\n",
      " \n",
      "And this will be the day this will be the day when all of God s children will be able to sing with new meaning\n",
      " \n",
      "My country  tis of thee sweet land of liberty of thee I sing\n",
      "Land where my fathers died land of the Pilgrim s pride\n",
      "From every mountainside let freedom ring\n",
      "And if America is to be a great nation this must become true\n",
      "And so let freedom ring from the prodigious hilltops of New Hampshire\n",
      "Let freedom ring from the mighty mountains of New York\n",
      "Let freedom ring from the heightening Alleghenies of Pennsylvania\n",
      "Let freedom ring from the snowcapped Rockies of Colorado\n",
      "Let freedom ring from the curvaceous slopes of California\n",
      " \n",
      "But not only that\n",
      "Let freedom ring from Stone Mountain of Georgia\n",
      "Let freedom ring from Lookout Mountain of Tennessee\n",
      "Let freedom ring from every hill and molehill of Mississippi\n",
      "From every mountainside let freedom ring\n",
      "And when this happens when we allow freedom ring when we let it ring from every village and every hamlet from every state and every city we will be able to speed up that day when all of God s children black men and white men Jews and Gentiles Protestants and Catholics will be able to join hands and sing in the words of the old Negro spiritual\n",
      "Free at last Free at last\n",
      " \n",
      "Thank God Almighty we are free at last\n"
     ]
    }
   ],
   "source": [
    "#Remove puncation\n",
    "from string import punctuation\n",
    "mlk_speech = ''.join(x for x in mlk_speech if x not in punctuation)\n",
    "print(mlk_speech)"
   ]
  },
  {
   "cell_type": "code",
   "execution_count": 6,
   "metadata": {},
   "outputs": [
    {
     "name": "stdout",
     "output_type": "stream",
     "text": [
      "[nltk_data] Downloading package stopwords to\n",
      "[nltk_data]     C:\\Users\\pppri\\AppData\\Roaming\\nltk_data...\n",
      "[nltk_data]   Unzipping corpora\\stopwords.zip.\n",
      "And even though face difficulties today tomorrow I still dream It dream deeply rooted American dream I dream one day nation rise live true meaning creed We hold truths selfevident men created equal I dream one day red hills Georgia sons former slaves sons former slave owners able sit together table brotherhood I dream one day even state Mississippi state sweltering heat injustice sweltering heat oppression transformed oasis freedom justice I dream four little children one day live nation judged color skin content character I dream today I dream one day Alabama vicious racists governor lips dripping words interposition nullification one day right Alabama little black boys black girls able join hands little white boys white girls sisters brothers I dream today I dream one day every valley shall exalted every hill mountain shall made low rough places made plain crooked places made straight glory Lord shall revealed flesh shall see together This hope faith I go back South With faith able hew mountain despair stone hope With faith able transform jangling discords nation beautiful symphony brotherhood With faith able work together pray together struggle together go jail together stand freedom together knowing free one day And day day God children able sing new meaning My country tis thee sweet land liberty thee I sing Land fathers died land Pilgrim pride From every mountainside let freedom ring And America great nation must become true And let freedom ring prodigious hilltops New Hampshire Let freedom ring mighty mountains New York Let freedom ring heightening Alleghenies Pennsylvania Let freedom ring snowcapped Rockies Colorado Let freedom ring curvaceous slopes California But Let freedom ring Stone Mountain Georgia Let freedom ring Lookout Mountain Tennessee Let freedom ring every hill molehill Mississippi From every mountainside let freedom ring And happens allow freedom ring let ring every village every hamlet every state every city able speed day God children black men white men Jews Gentiles Protestants Catholics able join hands sing words old Negro spiritual Free last Free last Thank God Almighty free last\n"
     ]
    }
   ],
   "source": [
    "#Remove stop words [a, of, the]\n",
    "import nltk\n",
    "nltk.download('stopwords')\n",
    "from nltk.corpus import stopwords\n",
    "\n",
    "mlk_speech = ' '.join(word for word in mlk_speech.split() if word not in (stopwords.words('english')))\n",
    "print(mlk_speech)"
   ]
  },
  {
   "cell_type": "code",
   "execution_count": 7,
   "metadata": {},
   "outputs": [
    {
     "name": "stdout",
     "output_type": "stream",
     "text": [
      "[nltk_data] Downloading package punkt to\n",
      "[nltk_data]     C:\\Users\\pppri\\AppData\\Roaming\\nltk_data...\n",
      "[nltk_data]   Unzipping tokenizers\\punkt.zip.\n",
      "['And', 'even', 'though', 'face', 'difficulties', 'today', 'tomorrow', 'I', 'still', 'dream', 'It', 'dream', 'deeply', 'rooted', 'American', 'dream', 'I', 'dream', 'one', 'day', 'nation', 'rise', 'live', 'true', 'meaning', 'creed', 'We', 'hold', 'truths', 'selfevident', 'men', 'created', 'equal', 'I', 'dream', 'one', 'day', 'red', 'hills', 'Georgia', 'sons', 'former', 'slaves', 'sons', 'former', 'slave', 'owners', 'able', 'sit', 'together', 'table', 'brotherhood', 'I', 'dream', 'one', 'day', 'even', 'state', 'Mississippi', 'state', 'sweltering', 'heat', 'injustice', 'sweltering', 'heat', 'oppression', 'transformed', 'oasis', 'freedom', 'justice', 'I', 'dream', 'four', 'little', 'children', 'one', 'day', 'live', 'nation', 'judged', 'color', 'skin', 'content', 'character', 'I', 'dream', 'today', 'I', 'dream', 'one', 'day', 'Alabama', 'vicious', 'racists', 'governor', 'lips', 'dripping', 'words', 'interposition', 'nullification', 'one', 'day', 'right', 'Alabama', 'little', 'black', 'boys', 'black', 'girls', 'able', 'join', 'hands', 'little', 'white', 'boys', 'white', 'girls', 'sisters', 'brothers', 'I', 'dream', 'today', 'I', 'dream', 'one', 'day', 'every', 'valley', 'shall', 'exalted', 'every', 'hill', 'mountain', 'shall', 'made', 'low', 'rough', 'places', 'made', 'plain', 'crooked', 'places', 'made', 'straight', 'glory', 'Lord', 'shall', 'revealed', 'flesh', 'shall', 'see', 'together', 'This', 'hope', 'faith', 'I', 'go', 'back', 'South', 'With', 'faith', 'able', 'hew', 'mountain', 'despair', 'stone', 'hope', 'With', 'faith', 'able', 'transform', 'jangling', 'discords', 'nation', 'beautiful', 'symphony', 'brotherhood', 'With', 'faith', 'able', 'work', 'together', 'pray', 'together', 'struggle', 'together', 'go', 'jail', 'together', 'stand', 'freedom', 'together', 'knowing', 'free', 'one', 'day', 'And', 'day', 'day', 'God', 'children', 'able', 'sing', 'new', 'meaning', 'My', 'country', 'tis', 'thee', 'sweet', 'land', 'liberty', 'thee', 'I', 'sing', 'Land', 'fathers', 'died', 'land', 'Pilgrim', 'pride', 'From', 'every', 'mountainside', 'let', 'freedom', 'ring', 'And', 'America', 'great', 'nation', 'must', 'become', 'true', 'And', 'let', 'freedom', 'ring', 'prodigious', 'hilltops', 'New', 'Hampshire', 'Let', 'freedom', 'ring', 'mighty', 'mountains', 'New', 'York', 'Let', 'freedom', 'ring', 'heightening', 'Alleghenies', 'Pennsylvania', 'Let', 'freedom', 'ring', 'snowcapped', 'Rockies', 'Colorado', 'Let', 'freedom', 'ring', 'curvaceous', 'slopes', 'California', 'But', 'Let', 'freedom', 'ring', 'Stone', 'Mountain', 'Georgia', 'Let', 'freedom', 'ring', 'Lookout', 'Mountain', 'Tennessee', 'Let', 'freedom', 'ring', 'every', 'hill', 'molehill', 'Mississippi', 'From', 'every', 'mountainside', 'let', 'freedom', 'ring', 'And', 'happens', 'allow', 'freedom', 'ring', 'let', 'ring', 'every', 'village', 'every', 'hamlet', 'every', 'state', 'every', 'city', 'able', 'speed', 'day', 'God', 'children', 'black', 'men', 'white', 'men', 'Jews', 'Gentiles', 'Protestants', 'Catholics', 'able', 'join', 'hands', 'sing', 'words', 'old', 'Negro', 'spiritual', 'Free', 'last', 'Free', 'last', 'Thank', 'God', 'Almighty', 'free', 'last']\n",
      "['and', 'even', 'though', 'face', 'difficulti', 'today', 'tomorrow', 'I', 'still', 'dream', 'It', 'dream', 'deepli', 'root', 'american', 'dream', 'I', 'dream', 'one', 'day', 'nation', 'rise', 'live', 'true', 'mean', 'creed', 'We', 'hold', 'truth', 'selfevid', 'men', 'creat', 'equal', 'I', 'dream', 'one', 'day', 'red', 'hill', 'georgia', 'son', 'former', 'slave', 'son', 'former', 'slave', 'owner', 'abl', 'sit', 'togeth', 'tabl', 'brotherhood', 'I', 'dream', 'one', 'day', 'even', 'state', 'mississippi', 'state', 'swelter', 'heat', 'injustic', 'swelter', 'heat', 'oppress', 'transform', 'oasi', 'freedom', 'justic', 'I', 'dream', 'four', 'littl', 'children', 'one', 'day', 'live', 'nation', 'judg', 'color', 'skin', 'content', 'charact', 'I', 'dream', 'today', 'I', 'dream', 'one', 'day', 'alabama', 'viciou', 'racist', 'governor', 'lip', 'drip', 'word', 'interposit', 'nullif', 'one', 'day', 'right', 'alabama', 'littl', 'black', 'boy', 'black', 'girl', 'abl', 'join', 'hand', 'littl', 'white', 'boy', 'white', 'girl', 'sister', 'brother', 'I', 'dream', 'today', 'I', 'dream', 'one', 'day', 'everi', 'valley', 'shall', 'exalt', 'everi', 'hill', 'mountain', 'shall', 'made', 'low', 'rough', 'place', 'made', 'plain', 'crook', 'place', 'made', 'straight', 'glori', 'lord', 'shall', 'reveal', 'flesh', 'shall', 'see', 'togeth', 'thi', 'hope', 'faith', 'I', 'go', 'back', 'south', 'with', 'faith', 'abl', 'hew', 'mountain', 'despair', 'stone', 'hope', 'with', 'faith', 'abl', 'transform', 'jangl', 'discord', 'nation', 'beauti', 'symphoni', 'brotherhood', 'with', 'faith', 'abl', 'work', 'togeth', 'pray', 'togeth', 'struggl', 'togeth', 'go', 'jail', 'togeth', 'stand', 'freedom', 'togeth', 'know', 'free', 'one', 'day', 'and', 'day', 'day', 'god', 'children', 'abl', 'sing', 'new', 'mean', 'My', 'countri', 'ti', 'thee', 'sweet', 'land', 'liberti', 'thee', 'I', 'sing', 'land', 'father', 'die', 'land', 'pilgrim', 'pride', 'from', 'everi', 'mountainsid', 'let', 'freedom', 'ring', 'and', 'america', 'great', 'nation', 'must', 'becom', 'true', 'and', 'let', 'freedom', 'ring', 'prodigi', 'hilltop', 'new', 'hampshir', 'let', 'freedom', 'ring', 'mighti', 'mountain', 'new', 'york', 'let', 'freedom', 'ring', 'heighten', 'allegheni', 'pennsylvania', 'let', 'freedom', 'ring', 'snowcap', 'rocki', 'colorado', 'let', 'freedom', 'ring', 'curvac', 'slope', 'california', 'but', 'let', 'freedom', 'ring', 'stone', 'mountain', 'georgia', 'let', 'freedom', 'ring', 'lookout', 'mountain', 'tennesse', 'let', 'freedom', 'ring', 'everi', 'hill', 'molehil', 'mississippi', 'from', 'everi', 'mountainsid', 'let', 'freedom', 'ring', 'and', 'happen', 'allow', 'freedom', 'ring', 'let', 'ring', 'everi', 'villag', 'everi', 'hamlet', 'everi', 'state', 'everi', 'citi', 'abl', 'speed', 'day', 'god', 'children', 'black', 'men', 'white', 'men', 'jew', 'gentil', 'protest', 'cathol', 'abl', 'join', 'hand', 'sing', 'word', 'old', 'negro', 'spiritu', 'free', 'last', 'free', 'last', 'thank', 'god', 'almighti', 'free', 'last']\n"
     ]
    }
   ],
   "source": [
    "#Tokensing\n",
    "nltk.download('punkt')\n",
    "T_words = nltk.tokenize.word_tokenize(mlk_speech)\n",
    "print(T_words)\n",
    "\n",
    "#Steaming\n",
    "from nltk.stem.porter import PorterStemmer\n",
    "\n",
    "ps = PorterStemmer()\n",
    "stems = [ps.stem(word) for word in T_words]\n",
    "print(stems)"
   ]
  },
  {
   "cell_type": "code",
   "execution_count": 8,
   "metadata": {},
   "outputs": [
    {
     "name": "stdout",
     "output_type": "stream",
     "text": [
      "               0\n",
      "and            5\n",
      "even           2\n",
      "though         1\n",
      "face           1\n",
      "difficulti     1\n",
      "today          3\n",
      "tomorrow       1\n",
      "I             11\n",
      "still          1\n",
      "dream         11\n",
      "It             1\n",
      "deepli         1\n",
      "root           1\n",
      "american       1\n",
      "one            8\n",
      "day           11\n",
      "nation         4\n",
      "rise           1\n",
      "live           2\n",
      "true           2\n",
      "mean           2\n",
      "creed          1\n",
      "We             1\n",
      "hold           1\n",
      "truth          1\n",
      "selfevid       1\n",
      "men            3\n",
      "creat          1\n",
      "equal          1\n",
      "red            1\n",
      "...           ..\n",
      "york           1\n",
      "heighten       1\n",
      "allegheni      1\n",
      "pennsylvania   1\n",
      "snowcap        1\n",
      "rocki          1\n",
      "colorado       1\n",
      "curvac         1\n",
      "slope          1\n",
      "california     1\n",
      "but            1\n",
      "lookout        1\n",
      "tennesse       1\n",
      "molehil        1\n",
      "happen         1\n",
      "allow          1\n",
      "villag         1\n",
      "hamlet         1\n",
      "citi           1\n",
      "speed          1\n",
      "jew            1\n",
      "gentil         1\n",
      "protest        1\n",
      "cathol         1\n",
      "old            1\n",
      "negro          1\n",
      "spiritu        1\n",
      "last           3\n",
      "thank          1\n",
      "almighti       1\n",
      "\n",
      "[171 rows x 1 columns]\n"
     ]
    }
   ],
   "source": [
    "from nltk.probability import FreqDist\n",
    "import pandas as pd\n",
    "\n",
    "\n",
    "fd = FreqDist(stems)\n",
    "fd_dt = pd.DataFrame(fd,index=[0]).T\n",
    "print(fd_dt)\n"
   ]
  },
  {
   "cell_type": "code",
   "execution_count": 10,
   "metadata": {},
   "outputs": [
    {
     "data": {
      "image/png": "[encoded data removed]",
      "text/plain": [
       "<Figure size 1152x648 with 1 Axes>"
      ]
     },
     "metadata": {},
     "output_type": "display_data"
    }
   ],
   "source": [
    "#plotting on graph \n",
    "import matplotlib.pyplot as plt\n",
    "counts  = fd_dt.sort_values(0,ascending=False)\n",
    "\n",
    "ar = plt.figure(figsize=(16,9))\n",
    "ax = ar.gca()\n",
    "counts[0][:80].plot(kind='bar',ax=ax)\n",
    "ax.set_title(\"Freq Distriution\")\n",
    "ax.set_xlabel(\"Words\")\n",
    "ax.set_ylabel(\"Freq of Words\")\n",
    "plt.show()"
   ]
  },
  {
   "cell_type": "code",
   "execution_count": null,
   "metadata": {},
   "outputs": [],
   "source": []
  }
 ],
 "metadata": {
  "kernelspec": {
   "display_name": "Python 3",
   "language": "python",
   "name": "python3"
  },
  "language_info": {
   "codemirror_mode": {
    "name": "ipython",
    "version": 3
   },
   "file_extension": ".py",
   "mimetype": "text/x-python",
   "name": "python",
   "nbconvert_exporter": "python",
   "pygments_lexer": "ipython3",
   "version": "3.6.5"
  }
 },
 "nbformat": 4,
 "nbformat_minor": 2
}
