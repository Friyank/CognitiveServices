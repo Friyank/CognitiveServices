{
 "cells": [
  {
   "cell_type": "code",
   "execution_count": 29,
   "metadata": {},
   "outputs": [
    {
     "name": "stdout",
     "output_type": "stream",
     "text": [
      "Language detected for ID 1 is Spanish\n",
      "Language detected for ID 2 is English\n",
      "Language detected for ID 3 is French\n"
     ]
    }
   ],
   "source": [
    "#Python 3.6 | Azure NoteBook | Azure Cognitive Services | Text Analytics \n",
    "\n",
    "#Request URL\n",
    "#https://{endpoint}/text/analytics/v3.0-preview.1/languages[?showStats][&model-version]\n",
    "\n",
    "#Request parameters\n",
    "#showStats (optional)boolean\n",
    "#(optional) if set to true, response will contain input and document level statistics.\n",
    "#model-version (optional)string\n",
    "#(optional) This value indicates which model will be used for scoring. If a model-version is not specified, the API should default to the latest, non-preview version.\n",
    "\n",
    "\n",
    "#Request headers\n",
    "#Content-TypestringMedia type of the body sent to the API.\n",
    "#Ocp-Apim-Subscription-KeystringSubscription key which provides access to this API. Found in your Cognitive Services accounts.\n",
    "\n",
    "#Request body\n",
    "#Collection of documents to analyze.\n",
    "\n",
    "\n",
    "#Import important libraries/Modules. \n",
    "import urllib.parse, http.client, urllib.request, urllib.error, json\n",
    "\n",
    "#Setting up variables \n",
    "textAnalyticsEndpoint = \"aml-text-learn.cognitiveservices.azure.com\" #base URL from Azure portal, with out https:// \n",
    "textAnalyticsAPI = \"/text/analytics/v2.0/languages\" #Extended URL  \n",
    "textAnalyticsKey = \"1009e403fa1a4fac942b55d99a037c8c\"\n",
    "httpMethod = \"POST\"\n",
    "\n",
    "#setting up header with Key\n",
    "headers = {\n",
    "    'Content-Type':'application/json',\n",
    "    'Ocp-Apim-Subscription-Key' : textAnalyticsKey,\n",
    "    'Accept' : 'application/json'\n",
    "}\n",
    "\n",
    "#We will detect following text language. Spanish, English, French.  \n",
    "body = {\n",
    "    'documents' : [{\n",
    "        'id' : '1',\n",
    "        'text' : 'Hola a todos'\n",
    "    },\n",
    "    {\n",
    "        'id' : '2',\n",
    "        'text' : 'i am not learning text analytics'\n",
    "    }\n",
    "        ,\n",
    "    {\n",
    "        'id' : '3',\n",
    "        'text' : 'Bonjour Salut Allo Tiens'\n",
    "    }\n",
    "    ]\n",
    "}\n",
    "\n",
    "#Setting Params as null as there is no mandatory query string expected \n",
    "#still you can pass optional paramters\n",
    "params = urllib.parse.urlencode({\n",
    "})\n",
    "\n",
    "#Above values are set as per API reference here \n",
    "#https://westus.dev.cognitive.microsoft.com/docs/services/TextAnalytics-v3-0-Preview-1/operations/Languages\n",
    "\n",
    "try : \n",
    "    #Creating Connection \n",
    "    conn = http.client.HTTPSConnection(textAnalyticsEndpoint)\n",
    "    conn.request(httpMethod, textAnalyticsAPI +\"%s\" % params, str(body), headers)\n",
    "    response = conn.getresponse()\n",
    "    jsondata = response.read().decode('UTF-8')\n",
    "    data = json.loads(jsondata)\n",
    "    for document in data['documents']: \n",
    "        id = document['id']\n",
    "        for detectedLanguage in document['detectedLanguages']:\n",
    "            print(\"Language detected for ID \"+id+\" is \"+detectedLanguage['name']) \n",
    "    conn.close()\n",
    "except Exception as e:\n",
    "    print(\"[Err {0}] \".format(e))\n"
   ]
  },
  {
   "cell_type": "code",
   "execution_count": null,
   "metadata": {},
   "outputs": [],
   "source": []
  }
 ],
 "metadata": {
  "kernelspec": {
   "display_name": "Python 3.6",
   "language": "python",
   "name": "python36"
  },
  "language_info": {
   "codemirror_mode": {
    "name": "ipython",
    "version": 3
   },
   "file_extension": ".py",
   "mimetype": "text/x-python",
   "name": "python",
   "nbconvert_exporter": "python",
   "pygments_lexer": "ipython3",
   "version": "3.6.6"
  }
 },
 "nbformat": 4,
 "nbformat_minor": 2
}
