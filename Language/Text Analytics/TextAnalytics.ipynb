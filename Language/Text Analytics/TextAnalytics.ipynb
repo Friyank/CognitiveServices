{
 "cells": [
  {
   "cell_type": "code",
   "execution_count": 5,
   "metadata": {},
   "outputs": [],
   "source": [
    "textAnalyticsURL = 'southcentralus.api.cognitive.microsoft.com'\n",
    "textAnalyticsKey = '9a07e028535f45238b80d529c03ef063'"
   ]
  },
  {
   "cell_type": "code",
   "execution_count": 11,
   "metadata": {},
   "outputs": [
    {
     "name": "stdout",
     "output_type": "stream",
     "text": [
      "Document 1 has a positive sentiment\n",
      "Document 2 has a negative sentiment\n"
     ]
    }
   ],
   "source": [
    "import urllib.parse, http.client, urllib.request, urllib.error, json\n",
    "\n",
    "headers = {\n",
    "    'Content-Type' : 'application/json',\n",
    "    'Ocp-Apim-Subscription-Key' : textAnalyticsKey,\n",
    "    'Accept' : 'application/json'\n",
    "}\n",
    "\n",
    "body = {\n",
    "    'documents' : [\n",
    "        {\n",
    "            'language' : 'en',\n",
    "            'id' : '1',\n",
    "            'text' : 'Wow! I am loving this course!'\n",
    "        },\n",
    "        {\n",
    "            'language' : 'en',\n",
    "            'id' : '2',\n",
    "            'text' : 'This course is not working for me right now.'\n",
    "        }\n",
    "    ]\n",
    "}\n",
    "\n",
    "params = urllib.parse.urlencode({})\n",
    "\n",
    "try:\n",
    "    conn = http.client.HTTPSConnection(textAnalyticsURL)\n",
    "    conn.request(\"POST\", \"/text/analytics/v2.0/sentiment?%s\" % params, str(body), headers)\n",
    "    response = conn.getresponse()\n",
    "    jsonData = response.read().decode(\"UTF-8\")\n",
    "    data = json.loads(jsonData)\n",
    "    for document in data['documents']:\n",
    "        sentiment = \"positive\"\n",
    "        if document['score'] <= 0.5:\n",
    "            sentiment = \"negative\"\n",
    "        print('Document ' + document['id'] + ' has a ' + sentiment + ' sentiment')\n",
    "    conn.close()\n",
    "except Exception as ex:\n",
    "    print(ex.strerror)"
   ]
  },
  {
   "cell_type": "code",
   "execution_count": 12,
   "metadata": {},
   "outputs": [
    {
     "name": "stdout",
     "output_type": "stream",
     "text": [
      "Document 1 has these key phrases:\n",
      "    Wow\n",
      "    course\n",
      "-----------------------------------\n",
      "Document 2 has these key phrases:\n",
      "    course\n",
      "-----------------------------------\n"
     ]
    }
   ],
   "source": [
    "try:\n",
    "    conn = http.client.HTTPSConnection(textAnalyticsURL)\n",
    "    conn.request(\"POST\", \"/text/analytics/v2.0/keyPhrases?%s\" % params, str(body), headers)\n",
    "    response = conn.getresponse()\n",
    "    jsonData = response.read().decode(\"UTF-8\")\n",
    "    data = json.loads(jsonData)\n",
    "    for document in data['documents']:\n",
    "        print('Document ' + document['id'] + ' has these key phrases:')\n",
    "        for phrase in document['keyPhrases']:\n",
    "            print(\"    \" + phrase)\n",
    "        print('-----------------------------------')\n",
    "    conn.close()\n",
    "except Exception as ex:\n",
    "    print(ex.strerror)"
   ]
  },
  {
   "cell_type": "code",
   "execution_count": 8,
   "metadata": {},
   "outputs": [
    {
     "name": "stdout",
     "output_type": "stream",
     "text": [
      "  % Total    % Received % Xferd  Average Speed   Time    Time     Time  Current\n",
      "                                 Dload  Upload   Total   Spent    Left  Speed\n",
      "100  3349    0  3349    0     0   3349      0 --:--:-- --:--:-- --:--:--  4483\n",
      "And so even though we face the difficulties of today and tomorrow, I still have a dream. It is a dream deeply rooted in the American dream.\n",
      " \n",
      "I have a dream that one day this nation will rise up and live out the true meaning of its creed:\n",
      " \n",
      "We hold these truths to be self-evident, that all men are created equal.\n",
      " \n",
      "I have a dream that one day on the red hills of Georgia, the sons of former slaves and the sons of former slave owners will be able to sit down together at the table of brotherhood.\n",
      " \n",
      "I have a dream that one day even the state of Mississippi, a state sweltering with the heat of injustice, sweltering with the heat of oppression, will be transformed into an oasis of freedom and justice.\n",
      " \n",
      "I have a dream that my four little children will one day live in a nation where they will not be judged by the color of their skin but by the content of their character.\n",
      " \n",
      "I have a dream today!\n",
      " \n",
      "I have a dream that one day, down in Alabama, with its vicious racists, with its governor having his lips dripping with the words of interposition and nullification, one day right there in Alabama little black boys and black girls will be able to join hands with little white boys and white girls as sisters and brothers.\n",
      " \n",
      "I have a dream today!\n",
      " \n",
      "I have a dream that one day every valley shall be exalted, and every hill and mountain shall be made low, the rough places will be made plain, and the crooked places will be made straight; and the glory of the Lord shall be revealed and all flesh shall see it together.\n",
      " \n",
      "This is our hope, and this is the faith that I go back to the South with.\n",
      " \n",
      "With this faith, we will be able to hew out of the mountain of despair a stone of hope. With this faith, we will be able to transform the jangling discords of our nation into a beautiful symphony of brotherhood. With this faith, we will be able to work together, to pray together, to struggle together, to go to jail together, to stand up for freedom together, knowing that we will be free one day.\n",
      " \n",
      "And this will be the day, this will be the day when all of God s children will be able to sing with new meaning:\n",
      " \n",
      "My country  tis of thee, sweet land of liberty, of thee I sing.\n",
      "Land where my fathers died, land of the Pilgrim s pride,\n",
      "From every mountainside, let freedom ring!\n",
      "And if America is to be a great nation, this must become true.\n",
      "And so let freedom ring from the prodigious hilltops of New Hampshire.\n",
      "Let freedom ring from the mighty mountains of New York.\n",
      "Let freedom ring from the heightening Alleghenies of Pennsylvania.\n",
      "Let freedom ring from the snow-capped Rockies of Colorado.\n",
      "Let freedom ring from the curvaceous slopes of California.\n",
      " \n",
      "But not only that:\n",
      "Let freedom ring from Stone Mountain of Georgia.\n",
      "Let freedom ring from Lookout Mountain of Tennessee.\n",
      "Let freedom ring from every hill and molehill of Mississippi.\n",
      "From every mountainside, let freedom ring.\n",
      "And when this happens, when we allow freedom ring, when we let it ring from every village and every hamlet, from every state and every city, we will be able to speed up that day when all of God s children, black men and white men, Jews and Gentiles, Protestants and Catholics, will be able to join hands and sing in the words of the old Negro spiritual:\n",
      "Free at last! Free at last!\n",
      " \n",
      "Thank God Almighty, we are free at last!\n"
     ]
    }
   ],
   "source": [
    "!curl https://www.unisi.it/sites/default/files/speech.txt -o speech.txt\n",
    "document = open(\"speech.txt\", \"r\")\n",
    "\n",
    "mlk_speech = document.read()\n",
    "print(mlk_speech)"
   ]
  },
  {
   "cell_type": "code",
   "execution_count": 9,
   "metadata": {},
   "outputs": [
    {
     "name": "stdout",
     "output_type": "stream",
     "text": [
      "and so even though we face the difficulties of today and tomorrow i still have a dream it is a dream deeply rooted in the american dream\n",
      " \n",
      "i have a dream that one day this nation will rise up and live out the true meaning of its creed\n",
      " \n",
      "we hold these truths to be selfevident that all men are created equal\n",
      " \n",
      "i have a dream that one day on the red hills of georgia the sons of former slaves and the sons of former slave owners will be able to sit down together at the table of brotherhood\n",
      " \n",
      "i have a dream that one day even the state of mississippi a state sweltering with the heat of injustice sweltering with the heat of oppression will be transformed into an oasis of freedom and justice\n",
      " \n",
      "i have a dream that my four little children will one day live in a nation where they will not be judged by the color of their skin but by the content of their character\n",
      " \n",
      "i have a dream today\n",
      " \n",
      "i have a dream that one day down in alabama with its vicious racists with its governor having his lips dripping with the words of interposition and nullification one day right there in alabama little black boys and black girls will be able to join hands with little white boys and white girls as sisters and brothers\n",
      " \n",
      "i have a dream today\n",
      " \n",
      "i have a dream that one day every valley shall be exalted and every hill and mountain shall be made low the rough places will be made plain and the crooked places will be made straight and the glory of the lord shall be revealed and all flesh shall see it together\n",
      " \n",
      "this is our hope and this is the faith that i go back to the south with\n",
      " \n",
      "with this faith we will be able to hew out of the mountain of despair a stone of hope with this faith we will be able to transform the jangling discords of our nation into a beautiful symphony of brotherhood with this faith we will be able to work together to pray together to struggle together to go to jail together to stand up for freedom together knowing that we will be free one day\n",
      " \n",
      "and this will be the day this will be the day when all of god s children will be able to sing with new meaning\n",
      " \n",
      "my country  tis of thee sweet land of liberty of thee i sing\n",
      "land where my fathers died land of the pilgrim s pride\n",
      "from every mountainside let freedom ring\n",
      "and if america is to be a great nation this must become true\n",
      "and so let freedom ring from the prodigious hilltops of new hampshire\n",
      "let freedom ring from the mighty mountains of new york\n",
      "let freedom ring from the heightening alleghenies of pennsylvania\n",
      "let freedom ring from the snowcapped rockies of colorado\n",
      "let freedom ring from the curvaceous slopes of california\n",
      " \n",
      "but not only that\n",
      "let freedom ring from stone mountain of georgia\n",
      "let freedom ring from lookout mountain of tennessee\n",
      "let freedom ring from every hill and molehill of mississippi\n",
      "from every mountainside let freedom ring\n",
      "and when this happens when we allow freedom ring when we let it ring from every village and every hamlet from every state and every city we will be able to speed up that day when all of god s children black men and white men jews and gentiles protestants and catholics will be able to join hands and sing in the words of the old negro spiritual\n",
      "free at last free at last\n",
      " \n",
      "thank god almighty we are free at last\n"
     ]
    }
   ],
   "source": [
    "from string import punctuation\n",
    "\n",
    "# remove numbers\n",
    "mlk_speech = ''.join(c for c in mlk_speech if not c.isdigit())\n",
    "\n",
    "# remove punctuation and make lower case\n",
    "mlk_speech = ''.join(c for c in mlk_speech if c not in punctuation).lower()\n",
    "\n",
    "print(mlk_speech)"
   ]
  },
  {
   "cell_type": "code",
   "execution_count": 10,
   "metadata": {},
   "outputs": [
    {
     "name": "stdout",
     "output_type": "stream",
     "text": [
      "[nltk_data] Downloading package stopwords to /home/nbuser/nltk_data...\n",
      "[nltk_data]   Unzipping corpora/stopwords.zip.\n",
      "even though face difficulties today tomorrow still dream dream deeply rooted american dream dream one day nation rise live true meaning creed hold truths selfevident men created equal dream one day red hills georgia sons former slaves sons former slave owners able sit together table brotherhood dream one day even state mississippi state sweltering heat injustice sweltering heat oppression transformed oasis freedom justice dream four little children one day live nation judged color skin content character dream today dream one day alabama vicious racists governor lips dripping words interposition nullification one day right alabama little black boys black girls able join hands little white boys white girls sisters brothers dream today dream one day every valley shall exalted every hill mountain shall made low rough places made plain crooked places made straight glory lord shall revealed flesh shall see together hope faith go back south faith able hew mountain despair stone hope faith able transform jangling discords nation beautiful symphony brotherhood faith able work together pray together struggle together go jail together stand freedom together knowing free one day day day god children able sing new meaning country tis thee sweet land liberty thee sing land fathers died land pilgrim pride every mountainside let freedom ring america great nation must become true let freedom ring prodigious hilltops new hampshire let freedom ring mighty mountains new york let freedom ring heightening alleghenies pennsylvania let freedom ring snowcapped rockies colorado let freedom ring curvaceous slopes california let freedom ring stone mountain georgia let freedom ring lookout mountain tennessee let freedom ring every hill molehill mississippi every mountainside let freedom ring happens allow freedom ring let ring every village every hamlet every state every city able speed day god children black men white men jews gentiles protestants catholics able join hands sing words old negro spiritual free last free last thank god almighty free last\n"
     ]
    }
   ],
   "source": [
    "#remove stopwords\n",
    "import nltk\n",
    "nltk.download(\"stopwords\")\n",
    "from nltk.corpus import stopwords\n",
    "\n",
    "mlk_speech = ' '.join([word for word in mlk_speech.split() if word not in (stopwords.words('english'))])\n",
    "\n",
    "print(mlk_speech)"
   ]
  }
 ],
 "metadata": {
  "kernelspec": {
   "display_name": "Python 3.6",
   "language": "python",
   "name": "python36"
  },
  "language_info": {
   "codemirror_mode": {
    "name": "ipython",
    "version": 3
   },
   "file_extension": ".py",
   "mimetype": "text/x-python",
   "name": "python",
   "nbconvert_exporter": "python",
   "pygments_lexer": "ipython3",
   "version": "3.6.6"
  }
 },
 "nbformat": 4,
 "nbformat_minor": 2
}
