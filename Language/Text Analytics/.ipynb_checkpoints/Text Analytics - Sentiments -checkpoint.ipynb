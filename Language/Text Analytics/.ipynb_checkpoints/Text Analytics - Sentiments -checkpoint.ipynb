{
 "cells": [
  {
   "cell_type": "code",
   "execution_count": 21,
   "metadata": {},
   "outputs": [],
   "source": [
    "import urllib.parse, http.client, urllib.request, urllib.error, json\n",
    "\n",
    "textAnalyticsEndpoint = \"aml-text-learn.cognitiveservices.azure.com\"\n",
    "textAnalyticsAPI = \"/text/analytics/v2.0/sentiment\"\n",
    "textAnalyticsKey = \"1009e403fa1a4fac942b55d99a037c8c\"\n",
    "httpMethod = \"POST\""
   ]
  },
  {
   "cell_type": "code",
   "execution_count": 22,
   "metadata": {},
   "outputs": [],
   "source": [
    "headers = {\n",
    "    'Content-Type':'application/json',\n",
    "    'Ocp-Apim-Subscription-Key' : textAnalyticsKey,\n",
    "    'Accept' : 'application/json'\n",
    "}\n",
    "body = {\n",
    "    'documents' : [{\n",
    "        'language' : 'en',\n",
    "        'id' : '1',\n",
    "        'text' : 'Hello, i am learning text analytics'\n",
    "    },\n",
    "    {\n",
    "        'language' : 'en',\n",
    "        'id' : '2',\n",
    "        'text' : 'i am not learning text analytics'\n",
    "    }\n",
    "    ]\n",
    "}\n",
    "params = urllib.parse.urlencode({})"
   ]
  },
  {
   "cell_type": "code",
   "execution_count": 23,
   "metadata": {},
   "outputs": [
    {
     "name": "stdout",
     "output_type": "stream",
     "text": [
      "Text with ID - 1 having Positive Sentiments !\n",
      "Text with ID - 2 having Negative Sentiments !\n"
     ]
    }
   ],
   "source": [
    "try : \n",
    "    conn = http.client.HTTPSConnection(textAnalyticsEndpoint)\n",
    "    conn.request(httpMethod, textAnalyticsAPI +\"%s\" % params, str(body), headers)\n",
    "    response = conn.getresponse()\n",
    "    jsondata = response.read().decode('UTF-8')\n",
    "    data = json.loads(jsondata)\n",
    "    for document in data['documents']:\n",
    "        if document['score'] > 0.5:\n",
    "            print(\"Text with ID - \" + document['id'] + \" having Positive Sentiments !\")\n",
    "        elif document['score'] <= 0.5:\n",
    "            print(\"Text with ID - \" + document['id'] + \" having Negative Sentiments !\")\n",
    "    conn.close()\n",
    "except Exception as e:\n",
    "    print(\"[Err {0}] \".format(e))\n"
   ]
  },
  {
   "cell_type": "code",
   "execution_count": null,
   "metadata": {},
   "outputs": [],
   "source": []
  }
 ],
 "metadata": {
  "kernelspec": {
   "display_name": "Python 3.6",
   "language": "python",
   "name": "python36"
  },
  "language_info": {
   "codemirror_mode": {
    "name": "ipython",
    "version": 3
   },
   "file_extension": ".py",
   "mimetype": "text/x-python",
   "name": "python",
   "nbconvert_exporter": "python",
   "pygments_lexer": "ipython3",
   "version": "3.6.6"
  }
 },
 "nbformat": 4,
 "nbformat_minor": 2
}
