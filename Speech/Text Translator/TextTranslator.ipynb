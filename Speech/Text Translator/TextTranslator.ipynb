{
 "cells": [
  {
   "cell_type": "code",
   "execution_count": 44,
   "metadata": {},
   "outputs": [
    {
     "name": "stdout",
     "output_type": "stream",
     "text": [
      "api.cognitive.microsofttranslator.com/translate?api-version=3.0&to=en-US\n"
     ]
    }
   ],
   "source": [
    "#importing important libraries/Modules \n",
    "import http.client, json, urllib, urllib.request, urllib.error, urllib.parse\n",
    "\n",
    "# key variable for storing key we got from Azure > Cognitive service > Keys and Endpoint > Key1.[step 3]\n",
    "key = '2aae4c381aba4a63986eab1ec4042858'\n",
    "\n",
    "#setting header, Content type and Passing key from variable.\n",
    "header = {\n",
    "    'Content-Type' : 'application/json',\n",
    "    'Ocp-Apim-Subscription-Key' : key\n",
    "}\n",
    "\n",
    "# This is the Endpoint we retrieved from Azure > Cognitive service > Keys and Endpoint > Endpoint.[step 3]\n",
    "baseUrl = \"api.cognitive.microsofttranslator.com\"\n",
    "\n",
    "#The Body is type of array we need to pass, as here you can pass multiple text at once. \n",
    "#In our case, we are trying to convert Spanish to English\n",
    "body =[\n",
    "    {\n",
    "    'Text' : 'Hola mundo'\n",
    "},\n",
    "    {\n",
    "        'Text' : 'Bonjour, mon amie'\n",
    "    }\n",
    "]\n",
    "\n",
    "#api-version and to is the parameter we need to pass\n",
    "#api-version = 3.0,  as we 2.0 is depricated and 3.0 is latest. \n",
    "# to is where we specify, To which language i want to translate the text which i provided in body. \n",
    "params = urllib.parse.urlencode({\n",
    "    'api-version' : '3.0',\n",
    "    'to' : 'en-US',\n",
    "    'to':'it',\n",
    "    'to':'de'\n",
    "})\n",
    "\n",
    "#This is the extended URL, its not provided on Azure , but details are there on Microsoft Docs portal. \n",
    "#refer this link https://docs.microsoft.com/en-us/azure/cognitive-services/translator/reference/v3-0-translate\n",
    "endpoint = '/translate?api-version=3.0&to=en-US'\n",
    "\n",
    "try :\n",
    "    #Creating Connection with base URL, that is with endpoint without https in URL\n",
    "    conn = http.client.HTTPSConnection(baseUrl)\n",
    "    \n",
    "    #Sending request with, POST as method, extended URL to base URL, Body as string and header.\n",
    "    conn.request('POST', endpoint, str(body), header)\n",
    "    \n",
    "    #storing response. \n",
    "    response = conn.getresponse()\n",
    "    \n",
    "    #decoding response to UTF-8 \n",
    "    decodeData = response.read().decode('UTF-8')\n",
    "    \n",
    "    #Converting Response to JSON for better visibility\n",
    "    data = json.loads(decodeData)\n",
    "    \n",
    "    #printing the Response.\n",
    "    print(data)\n",
    "except Exception as ex:\n",
    "    #printing the Error if any\n",
    "    print(ex)"
   ]
  },
  {
   "cell_type": "code",
   "execution_count": null,
   "metadata": {},
   "outputs": [],
   "source": []
  }
 ],
 "metadata": {
  "kernelspec": {
   "display_name": "Python 3.6",
   "language": "python",
   "name": "python36"
  },
  "language_info": {
   "codemirror_mode": {
    "name": "ipython",
    "version": 3
   },
   "file_extension": ".py",
   "mimetype": "text/x-python",
   "name": "python",
   "nbconvert_exporter": "python",
   "pygments_lexer": "ipython3",
   "version": "3.6.6"
  }
 },
 "nbformat": 4,
 "nbformat_minor": 2
}
